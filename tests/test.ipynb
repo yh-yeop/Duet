{
 "cells": [
  {
   "cell_type": "markdown",
   "metadata": {},
   "source": [
    "### csv_test"
   ]
  },
  {
   "cell_type": "code",
   "execution_count": 5,
   "metadata": {},
   "outputs": [
    {
     "name": "stdout",
     "output_type": "stream",
     "text": [
      "[['rect', 0, 2, 100, -250, 230, 35, 45.0, 2.5, nan, nan],\n",
      " ['rect', 0, 2, 0, -500, 230, 35, nan, nan, nan, nan],\n",
      " ['rect', 0, 2, 0, -650, 230, 35, nan, nan, nan, nan],\n",
      " ['rect', 0, 2, 0, -800, 230, 35, nan, nan, nan, nan],\n",
      " ['rect', 0, 2, 0, -950, 230, 35, nan, nan, nan, nan],\n",
      " ['rect', 0, 2, 0, -1100, 230, 35, nan, nan, nan, nan],\n",
      " ['rect', 0, 2, 0, -1250, 230, 35, nan, nan, nan, nan],\n",
      " ['rect', 0, 2, 0, -1400, 230, 35, nan, nan, nan, nan],\n",
      " ['rect', 0, 2, 0, -1550, 230, 35, nan, nan, nan, nan],\n",
      " ['rect', 0, 2, 220, -1700, 230, 35, nan, nan, nan, nan],\n",
      " ['rect', 0, 2, 220, -1850, 230, 35, nan, nan, nan, nan],\n",
      " ['rect', 0, 2, 220, -2000, 230, 35, nan, nan, nan, nan],\n",
      " ['rect', 0, 2, 220, -2150, 230, 35, nan, nan, nan, nan],\n",
      " ['rect', 0, 2, 220, -2300, 230, 35, nan, nan, nan, nan],\n",
      " ['rect', 0, 2, 220, -2450, 230, 35, nan, nan, nan, nan],\n",
      " ['rect', 0, 2, 220, -2600, 230, 35, nan, nan, nan, nan],\n",
      " ['rect', 0, 2, 220, -2750, 230, 35, nan, nan, nan, nan]]\n",
      "\n",
      "\n",
      "\n",
      "\n",
      "\n",
      "rect False\n",
      "0 False\n",
      "2 False\n",
      "100 False\n",
      "-250 False\n",
      "230 False\n",
      "35 False\n",
      "45.0 False\n",
      "2.5 False\n",
      "nan True\n",
      "nan True\n",
      "rect False\n",
      "0 False\n",
      "2 False\n",
      "0 False\n",
      "-500 False\n",
      "230 False\n",
      "35 False\n",
      "nan True\n",
      "nan True\n",
      "nan True\n",
      "nan True\n",
      "rect False\n",
      "0 False\n",
      "2 False\n",
      "0 False\n",
      "-650 False\n",
      "230 False\n",
      "35 False\n",
      "nan True\n",
      "nan True\n",
      "nan True\n",
      "nan True\n",
      "rect False\n",
      "0 False\n",
      "2 False\n",
      "0 False\n",
      "-800 False\n",
      "230 False\n",
      "35 False\n",
      "nan True\n",
      "nan True\n",
      "nan True\n",
      "nan True\n",
      "rect False\n",
      "0 False\n",
      "2 False\n",
      "0 False\n",
      "-950 False\n",
      "230 False\n",
      "35 False\n",
      "nan True\n",
      "nan True\n",
      "nan True\n",
      "nan True\n",
      "rect False\n",
      "0 False\n",
      "2 False\n",
      "0 False\n",
      "-1100 False\n",
      "230 False\n",
      "35 False\n",
      "nan True\n",
      "nan True\n",
      "nan True\n",
      "nan True\n",
      "rect False\n",
      "0 False\n",
      "2 False\n",
      "0 False\n",
      "-1250 False\n",
      "230 False\n",
      "35 False\n",
      "nan True\n",
      "nan True\n",
      "nan True\n",
      "nan True\n",
      "rect False\n",
      "0 False\n",
      "2 False\n",
      "0 False\n",
      "-1400 False\n",
      "230 False\n",
      "35 False\n",
      "nan True\n",
      "nan True\n",
      "nan True\n",
      "nan True\n",
      "rect False\n",
      "0 False\n",
      "2 False\n",
      "0 False\n",
      "-1550 False\n",
      "230 False\n",
      "35 False\n",
      "nan True\n",
      "nan True\n",
      "nan True\n",
      "nan True\n",
      "rect False\n",
      "0 False\n",
      "2 False\n",
      "220 False\n",
      "-1700 False\n",
      "230 False\n",
      "35 False\n",
      "nan True\n",
      "nan True\n",
      "nan True\n",
      "nan True\n",
      "rect False\n",
      "0 False\n",
      "2 False\n",
      "220 False\n",
      "-1850 False\n",
      "230 False\n",
      "35 False\n",
      "nan True\n",
      "nan True\n",
      "nan True\n",
      "nan True\n",
      "rect False\n",
      "0 False\n",
      "2 False\n",
      "220 False\n",
      "-2000 False\n",
      "230 False\n",
      "35 False\n",
      "nan True\n",
      "nan True\n",
      "nan True\n",
      "nan True\n",
      "rect False\n",
      "0 False\n",
      "2 False\n",
      "220 False\n",
      "-2150 False\n",
      "230 False\n",
      "35 False\n",
      "nan True\n",
      "nan True\n",
      "nan True\n",
      "nan True\n",
      "rect False\n",
      "0 False\n",
      "2 False\n",
      "220 False\n",
      "-2300 False\n",
      "230 False\n",
      "35 False\n",
      "nan True\n",
      "nan True\n",
      "nan True\n",
      "nan True\n",
      "rect False\n",
      "0 False\n",
      "2 False\n",
      "220 False\n",
      "-2450 False\n",
      "230 False\n",
      "35 False\n",
      "nan True\n",
      "nan True\n",
      "nan True\n",
      "nan True\n",
      "rect False\n",
      "0 False\n",
      "2 False\n",
      "220 False\n",
      "-2600 False\n",
      "230 False\n",
      "35 False\n",
      "nan True\n",
      "nan True\n",
      "nan True\n",
      "nan True\n",
      "rect False\n",
      "0 False\n",
      "2 False\n",
      "220 False\n",
      "-2750 False\n",
      "230 False\n",
      "35 False\n",
      "nan True\n",
      "nan True\n",
      "nan True\n",
      "nan True\n"
     ]
    }
   ],
   "source": [
    "import pandas\n",
    "from pprint import pprint\n",
    "\n",
    "df=pandas.read_csv(\"./../../Duet/assets/level/test_level.csv\")\n",
    "df_list=[list(df.loc[i].to_dict().values()) for i in range(len(df))]\n",
    "pprint(df_list)\n",
    "print(\"\\n\\n\\n\\n\")\n",
    "for i in df_list:\n",
    "    for ii in i:\n",
    "        print(ii,str(ii)==\"nan\")"
   ]
  },
  {
   "cell_type": "markdown",
   "metadata": {},
   "source": [
    "### func_test"
   ]
  },
  {
   "cell_type": "code",
   "execution_count": 1,
   "metadata": {},
   "outputs": [
    {
     "name": "stdout",
     "output_type": "stream",
     "text": [
      "1\n",
      "1\n",
      "\n",
      "\n",
      "5\n",
      "5\n"
     ]
    }
   ],
   "source": [
    "a=[0,min,max]\n",
    "\n",
    "print(a[1](1,2,3,4,5))\n",
    "print(min(1,2,3,4,5))\n",
    "print(\"\\n\")\n",
    "print(a[2](1,2,3,4,5))\n",
    "print(max(1,2,3,4,5))"
   ]
  },
  {
   "cell_type": "markdown",
   "metadata": {},
   "source": [
    "### isinstance_test"
   ]
  },
  {
   "cell_type": "code",
   "execution_count": 9,
   "metadata": {},
   "outputs": [
    {
     "name": "stdout",
     "output_type": "stream",
     "text": [
      "True\n",
      "False\n"
     ]
    }
   ],
   "source": [
    "print(isinstance([1,2,3],list))\n",
    "print(isinstance(1,list))"
   ]
  },
  {
   "cell_type": "code",
   "execution_count": 14,
   "metadata": {},
   "outputs": [
    {
     "name": "stdout",
     "output_type": "stream",
     "text": [
      "FPS: 정상(100.00)\n"
     ]
    }
   ],
   "source": [
    "dt=10\n",
    "fps=1000/dt\n",
    "print(f\"FPS: 정상({fps:.2f})\" if fps>90 else f\"FPS: 비정상({fps:.2f})\")"
   ]
  },
  {
   "cell_type": "code",
   "execution_count": 2,
   "metadata": {},
   "outputs": [
    {
     "name": "stdout",
     "output_type": "stream",
     "text": [
      "pygame 2.5.2 (SDL 2.28.3, Python 3.12.7)\n",
      "Hello from the pygame community. https://www.pygame.org/contribute.html\n",
      "374.7665940288702\n",
      "147.07821048680188\n"
     ]
    }
   ],
   "source": [
    "from pygame.math import Vector2\n",
    "\n",
    "print(Vector2(504,392).distance_to(Vector2(769,657)))\n",
    "print(Vector2(607,291).distance_to(Vector2(503,395)))"
   ]
  },
  {
   "cell_type": "code",
   "execution_count": 19,
   "metadata": {},
   "outputs": [
    {
     "name": "stdout",
     "output_type": "stream",
     "text": [
      "[10, 10] [10, 10]\n"
     ]
    }
   ],
   "source": [
    "a=(10,10)\n",
    "print(Vector2(10,10),Vector2(a))"
   ]
  },
  {
   "cell_type": "code",
   "execution_count": 4,
   "metadata": {},
   "outputs": [],
   "source": [
    "import math"
   ]
  },
  {
   "cell_type": "code",
   "execution_count": 64,
   "metadata": {},
   "outputs": [
    {
     "name": "stdout",
     "output_type": "stream",
     "text": [
      "[92.9412, 158.059]\n",
      "[113.714, -113.714]\n",
      "[197.527, -3.78024]\n"
     ]
    }
   ],
   "source": [
    "row=114,137\n",
    "h=35\n",
    "angle=45\n",
    "new_center=Vector2((h*math.sin(angle)),0)\n",
    "collide_pos=Vector2(row)\n",
    "rotate_pos=collide_pos-new_center.rotate(-angle)\n",
    "print(rotate_pos)\n",
    "rotate_pos=Vector2(new_center.distance_to(collide_pos),0).rotate(-angle)\n",
    "print(rotate_pos)\n",
    "rotate_pos=(Vector2(row)+Vector2((h*math.tan(angle))/2,0)).rotate(-angle)\n",
    "print(rotate_pos)"
   ]
  }
 ],
 "metadata": {
  "kernelspec": {
   "display_name": "Python 3",
   "language": "python",
   "name": "python3"
  },
  "language_info": {
   "codemirror_mode": {
    "name": "ipython",
    "version": 3
   },
   "file_extension": ".py",
   "mimetype": "text/x-python",
   "name": "python",
   "nbconvert_exporter": "python",
   "pygments_lexer": "ipython3",
   "version": "3.12.7"
  }
 },
 "nbformat": 4,
 "nbformat_minor": 2
}
